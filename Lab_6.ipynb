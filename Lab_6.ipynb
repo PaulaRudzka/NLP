{
 "cells": [
  {
   "cell_type": "markdown",
   "id": "02a6e35e",
   "metadata": {},
   "source": [
    "Using the Gutenberg collection, take three books each by Alexander Dumas and Jane Austen and perform the LDA topic model: search for 2 topics each in both Verne's and Austen's books and visualize them, then merge the two collections and once again perform this analysis. Check what effect the separation into 3 themes will have (in the case of the merged collection). Count the coherence."
   ]
  },
  {
   "cell_type": "code",
   "execution_count": 1,
   "id": "b72d4793",
   "metadata": {},
   "outputs": [],
   "source": [
    "# importing libraries\n",
    "import tmtoolkit as tm\n",
    "from tmtoolkit.corpus import Corpus\n",
    "import spacy\n",
    "from urllib import request\n",
    "import statsmodels.formula.api as sm\n",
    "import pandas as pd\n",
    "import seaborn as sns\n",
    "import matplotlib.pyplot as plt\n",
    "import numpy as np\n",
    "import random"
   ]
  },
  {
   "cell_type": "code",
   "execution_count": 3,
   "id": "3cd4ceea",
   "metadata": {},
   "outputs": [],
   "source": [
    "# downloading book \n",
    "def process_book(name, author):\n",
    "    url = \"https://www.gutenberg.org/cache/epub/\" + name + \"/pg\" + name + \".txt\"\n",
    "    \n",
    "    response = request.urlopen(url)\n",
    "    raw_text = response.read().decode('utf8')\n",
    "\n",
    "    # removing non-book parts\n",
    "    raw_text=raw_text.split('***')\n",
    "    raw_text = raw_text[2]  \n",
    "\n",
    "    file = open('Lab_6_docs/'+ author + '/' + name + \".txt\", \"w\", encoding=\"utf-8\")\n",
    "    file.write(raw_text)\n",
    "    file.close()\n",
    "\n",
    "austen=['158','946','161']\n",
    "for i in austen:\n",
    "    process_book(i,'austen')"
   ]
  },
  {
   "cell_type": "code",
   "execution_count": null,
   "id": "f3997a22",
   "metadata": {},
   "outputs": [],
   "source": []
  }
 ],
 "metadata": {
  "kernelspec": {
   "display_name": "venv",
   "language": "python",
   "name": "python3"
  },
  "language_info": {
   "codemirror_mode": {
    "name": "ipython",
    "version": 3
   },
   "file_extension": ".py",
   "mimetype": "text/x-python",
   "name": "python",
   "nbconvert_exporter": "python",
   "pygments_lexer": "ipython3",
   "version": "3.12.1"
  }
 },
 "nbformat": 4,
 "nbformat_minor": 5
}

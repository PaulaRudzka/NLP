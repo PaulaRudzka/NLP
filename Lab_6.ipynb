{
 "cells": [
  {
   "cell_type": "markdown",
   "id": "02a6e35e",
   "metadata": {},
   "source": [
    "Using the Gutenberg collection, take three books each by Alexander Dumas and Jane Austen and perform the LDA topic model: search for 2 topics each in both Verne's and Austen's books and visualize them, then merge the two collections and once again perform this analysis. Check what effect the separation into 3 themes will have (in the case of the merged collection). Count the coherence."
   ]
  },
  {
   "cell_type": "code",
   "execution_count": null,
   "id": "b72d4793",
   "metadata": {},
   "outputs": [],
   "source": [
    "# importing libraries\n",
    "import tmtoolkit as tm\n",
    "from tmtoolkit.corpus import Corpus\n",
    "import spacy\n",
    "import statsmodels.formula.api as sm\n",
    "import pandas as pd\n",
    "import seaborn as sns\n",
    "import matplotlib.pyplot as plt\n",
    "import numpy as np\n",
    "import random"
   ]
  },
  {
   "cell_type": "code",
   "execution_count": null,
   "id": "cdec53d5",
   "metadata": {},
   "outputs": [],
   "source": [
    "spacy.load('en_core_web_sm')\n",
    "corp_austen = tm.corpus.Corpus.from_folder(\"C:\\\\Users\\\\paula\\\\OneDrive\\\\Pulpit\\\\text\\lab7\\\\austen\", language=\"en\", load_features=[])\n",
    "\n",
    "\n",
    "tm.corpus.filter_clean_tokens(corp_austen)\n",
    "tm.corpus.to_lowercase(corp_austen)\n",
    "tm.corpus.remove_punctuation(corp_austen)\n",
    "tm.corpus.remove_tokens(corp_austen, \"\")\n",
    "\n",
    "mat, doc_labels, vocab = tm.corpus.dtm(corp_austen, return_doc_labels=True, return_vocab=True)"
   ]
  }
 ],
 "metadata": {
  "language_info": {
   "name": "python"
  }
 },
 "nbformat": 4,
 "nbformat_minor": 5
}

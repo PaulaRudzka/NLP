{
 "cells": [
  {
   "cell_type": "markdown",
   "id": "4adc2947",
   "metadata": {},
   "source": [
    "Make a comparison of any two books from the Project Gutenberg portal on the basis of bigrams: plot the 20 most popular bigrams in each of the two books as well as the word networks (choose the cutoff level yourself). Check how the resulting figure looks in the absence of function word removal."
   ]
  },
  {
   "cell_type": "code",
   "execution_count": null,
   "id": "7e86e881",
   "metadata": {},
   "outputs": [],
   "source": []
  }
 ],
 "metadata": {
  "language_info": {
   "name": "python"
  }
 },
 "nbformat": 4,
 "nbformat_minor": 5
}

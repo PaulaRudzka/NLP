{
 "cells": [
  {
   "cell_type": "markdown",
   "id": "88c1edd8",
   "metadata": {},
   "source": [
    "Using the BBC collection in question, combine the 1 and -1 classes into one and perform classification using the SVM (linear kernel) method, comparing the subjective class (1 and -1) with the objective class (0). Conduct the research for reasonably similar numbers of posts from each class (e.g., 500 and 500). "
   ]
  },
  {
   "cell_type": "code",
   "execution_count": 5,
   "id": "d965f8cb",
   "metadata": {},
   "outputs": [
    {
     "name": "stderr",
     "output_type": "stream",
     "text": [
      "c:\\Users\\paula\\OneDrive\\Pulpit\\git_swiezosc\\NLP\\venv\\Lib\\site-packages\\tqdm\\auto.py:21: TqdmWarning: IProgress not found. Please update jupyter and ipywidgets. See https://ipywidgets.readthedocs.io/en/stable/user_install.html\n",
      "  from .autonotebook import tqdm as notebook_tqdm\n"
     ]
    }
   ],
   "source": [
    "# importing libraries\n",
    "import pandas as pd\n",
    "import numpy as np\n",
    "import tmtoolkit as tm\n",
    "from sklearn.model_selection import train_test_split\n",
    "from sklearn import svm\n",
    "\n",
    "from sklearn.discriminant_analysis import LinearDiscriminantAnalysis\n",
    "from sklearn import metrics\n",
    "import matplotlib.pyplot as plt\n",
    "\n",
    "import kagglehub\n",
    "from kagglehub import KaggleDatasetAdapter"
   ]
  },
  {
   "cell_type": "code",
   "execution_count": 22,
   "id": "8c588bd4",
   "metadata": {},
   "outputs": [
    {
     "name": "stderr",
     "output_type": "stream",
     "text": [
      "C:\\Users\\paula\\AppData\\Local\\Temp\\ipykernel_15372\\293340492.py:4: DeprecationWarning: load_dataset is deprecated and will be removed in a future version.\n",
      "  df = kagglehub.load_dataset(\n"
     ]
    },
    {
     "data": {
      "application/vnd.microsoft.datawrangler.viewer.v0+json": {
       "columns": [
        {
         "name": "index",
         "rawType": "int64",
         "type": "integer"
        },
        {
         "name": "Review",
         "rawType": "object",
         "type": "unknown"
        },
        {
         "name": "label",
         "rawType": "int64",
         "type": "integer"
        }
       ],
       "ref": "e28313da-0f3e-4977-8572-772a7fcdb774",
       "rows": [
        [
         "26350",
         "I have discovered a new world of music. Before SPOTIFY I was searching for months before getting a good album, usually downloaded from Bandcamp. SPOTIFY changed my life and I mean it.",
         "0"
        ],
        [
         "24369",
         "Won't play music. It was my fav music app and paid for sub. Now I can't listen to a single tune. Just 5-6 sec at most of every few songs. Pulling sub.",
         "0"
        ],
        [
         "24368",
         "Watch a ad u will get 30 minutes ad free music where 30 mins ad free every 10 to 15 mins plays a ad what's the hell is making false promise ðŸ˜¡ðŸ˜¡",
         "0"
        ],
        [
         "41902",
         "Really like this app. But even when it tells me I don't have an internet connection it still won't let me access downloads. Update 2/14/22 They still haven't fixed this issue.",
         "0"
        ],
        [
         "24365",
         "I don't know what happend but I can't see my songs in the Playlist without editing and I have a Playlist of melanie martinez and the first song is crybaby, instead of the first song it comes in a song that I don't don't know, idk if this is an update but I hate it because I can't even listen to it anymore, I think I might download a new music app.",
         "0"
        ],
        [
         "24364",
         "6 ads in a row. I hate this so much and it ruins the mood completely",
         "0"
        ],
        [
         "24362",
         "I would give 2.5 stars if I could. The app is great... When it works. Some updates are great while others render the app unusable. I want to give 5 stars but the inconsistencies are brutal.",
         "0"
        ],
        [
         "24361",
         "Problem logging back in when offline. For whatever reason, Spotify logged me out of the app. But I had been using it offline. So, when I tried to log back in, the Spotify app kept saying \"you're offline\", which I wasn't. The only way round it was to delete the app and reinstall. There has to be a better solution!",
         "0"
        ],
        [
         "24360",
         "I used to love this app. Not sure what happened but it has seriously gone down hill. Needs a update to fix all the current issues.",
         "0"
        ],
        [
         "24359",
         "Downloaded several times now and just stays a black screen not sure what the update did other than break it",
         "0"
        ],
        [
         "24358",
         "Stopped working with android auto in the car, now can't get it, only use this for the car, no point in using it now.",
         "0"
        ],
        [
         "24357",
         "Automatically plays music when the app isn't even running. No option to get this to stop. Had to Uninstall to get it to quit. Garbage app.",
         "0"
        ],
        [
         "41904",
         "i cant play music from albums only from my liked songs playlist- even after restarting the app, logging off or turn off my phone. this is absolutely ridiculous please fix what ever this is.",
         "0"
        ],
        [
         "41905",
         "I'm giving this a one because I only have 6 skips plus ads. Also the premium says it free but it not you have to play which cost way to expensive. It annoys me to.",
         "0"
        ],
        [
         "24354",
         "I would like that the app have more songs in the menu like no just Playlist more songs recommendations",
         "0"
        ],
        [
         "24353",
         "Bruh its so bad like u made ur own playlist the few minutes after some songs some random songs will appear u cant skip. Song are shuffled in playlist theres no loop button and theres no unrandom button",
         "0"
        ],
        [
         "24352",
         "Love Spotify but I wish it could have the download feature and for me to listen to my podcasts offline. Overall, 4 stars",
         "0"
        ],
        [
         "41906",
         "Incredibly easy to use, great recommendations, no hidden charges and no constant pressure to upgrade. Wish I'd used it sooner!",
         "0"
        ],
        [
         "41907",
         "Love it but straggling with the offline music it dont play please fix it.",
         "0"
        ],
        [
         "24347",
         "Disappointing. I legitimately tried Spotify; even paid for premium to have the full experience, but honestly I can't justify how poor this experience is. To be fair, music is ok (nothing special beyond other services), but for podcasting... This thing is BAD in the most basic ways. It's inconsistent in remembering where I left off, not to mention whether I've heard an episode or not ðŸ¤¦â€â™‚ï¸ plainly, it fails to meet baseline features â€” I'm honestly surprised they're as popular as they are.",
         "0"
        ],
        [
         "24346",
         "Latest update very buggy",
         "0"
        ],
        [
         "24345",
         "Update 2022 May 9. Now I can't add a song to a Playlist without it taking me to the top of the Playlist and causing me to lose my spot. FIX YOUR APP!!!",
         "0"
        ],
        [
         "24344",
         "Even i have subscribe for a years, lyrics won't showed up, fix this!!",
         "0"
        ],
        [
         "41910",
         "Can't even play songs anymore. Searching songs will only give you relates songs but not the one you searched for. This app used to be good...",
         "0"
        ],
        [
         "24342",
         "Last couple months it's been acting up. I'll hit pause, but, it keeps on playing. Only way to stop playing is to reboot my phone. And now today, I start the car and Spotify starts on its own. Getting closer and closer to uninstall! Two days later ... And I am out.....",
         "0"
        ],
        [
         "24341",
         "One of the greatest app for music lovers but why does some are unable to hear",
         "0"
        ],
        [
         "24340",
         "I love Spotify and would never use a different music streaming service but they have randomly changed my plan multiple times from a student account to a premium duo account for a few months and I have been charged extra before I notice and change it back.",
         "0"
        ],
        [
         "41912",
         "Awful, when I clicked on a song to play it played a different song and when I tried to skip through I was limited to 6 skips and the ads were really long and frequent even when it said I'd only get them every half hour. YouTube Music is sooo much better, none of these problems.",
         "0"
        ],
        [
         "24337",
         "Like using the app, but please the premium adðŸ¥º, it's too much",
         "0"
        ],
        [
         "41913",
         "Its was a great experience but there is to much of ads",
         "0"
        ],
        [
         "24371",
         "HORRIBLE!! If I could give zero stars I would. This stupid app automatically starts itself on my phone all the time, and I DON'T USE THE APP!! If I used it a lot, it would make more sense, but I stopped a long time ago. My only answer is to uninstall.",
         "0"
        ],
        [
         "24372",
         "I've had for year love it but lately had few issues",
         "0"
        ],
        [
         "24374",
         "Can we see what songs are up next on shuffle, instead of just one. Apple music has this feature. Obviously this would be for premium users.",
         "0"
        ],
        [
         "24375",
         "Almost unusable on samsung phone",
         "0"
        ],
        [
         "41880",
         "When im trying to listen to my playlist it constantly plays songs that arent even on my playlist and doesnt for multiple songs afterwards which is really annoying when im trying to listen to songs so pretty much app is useless unless you have premium. Not to mention that one time it played 10 ads in a row before playing a song that wasent on my playlist",
         "0"
        ],
        [
         "24411",
         "The new shuffle play algorithm kinda sucks and plays the same 30 songs over and over even though I have over 1000 songs saved",
         "0"
        ],
        [
         "24410",
         "Sometimes the app does not show the currently played music on screen. I tried restarting the app several times but that didn't fix it either. Had to clear the app's data to fix it",
         "0"
        ],
        [
         "41883",
         "Hi there I'm a premium user and the latest update affects connectivity with my Pionner Deh-s420bt system.. doesn't want to connect through dedicated spotify source.. had to rollback spotify ver to get it working again..can you please advise on update fix",
         "0"
        ],
        [
         "24407",
         "Such a horrible user experienceðŸ˜µâ€ðŸ’«ðŸ˜µâ€ðŸ’«. The app didn't even have the button to close the current music ðŸ˜‘.For last 3 days, M not getting the button to play any song when i tap on it, it just play the highlight of the songðŸ˜‘ðŸ˜µ, I cant see the queue as well Unistalling ðŸ¤ðŸ˜µâ€ðŸ’«",
         "0"
        ],
        [
         "24406",
         "Worst, its full of ads",
         "0"
        ],
        [
         "41884",
         "Love but i hate the boring ads 4/5 ads came at a time.",
         "0"
        ],
        [
         "41885",
         "I'm still in college and I can't continue the student premium so I guess screw the customer and loose a customer for good.",
         "0"
        ],
        [
         "24402",
         "IT'S SOOOOOOO GOODDDD AND I DON'T HAVE ADS IN THE GAME!!!!!!ðŸ˜ŠðŸ˜ŠðŸ˜ŠðŸ˜ŠðŸ˜ŠðŸ˜ŠðŸ˜ŠðŸ˜ðŸ˜ðŸ˜ðŸ˜",
         "0"
        ],
        [
         "24401",
         "At this point I can't even listen to Spotify on mobile the always shuffle and the skips I can't with them . Today I tried listening to an album and it played songs from another album its really annoying when I look at yall as if not the best music platform but pls change that feature because I'm just a kid and I not paying to unshuffle my songs/album shshushsjsjsjzkzkxkxkxkkxxkxkxkxkxkkxcjcjcjcjjcjcjcjcjxj the v best music platform",
         "0"
        ],
        [
         "24400",
         "Keeps deleting my podcasts. I have uninstalled and reinstalled, same thing. Thought it was a problem of the free version but went online and found many premium users have the same problem. Completely discouraged me from paying for premium. All i use Spotify for is to listen to my favorite podcasts and that's useless now",
         "0"
        ],
        [
         "24399",
         "The shuffle function is broken. I've tried all the tricks - resorting the playlists; turning shuffle off and back on again; etc. - but nothing seems to help. More frustrating than this though is that the cache file is huge, and I regularly have to clear the cache (monthly at least), or my device runs out of storage space. I can't download songs to my SD card because for some reason it makes the app file on my phone significantly bigger, and I again run out of space.",
         "0"
        ],
        [
         "41887",
         "It's really good song...good collection but the prob is that it has too many adds after 2-3 songs there is 3 adds.",
         "0"
        ],
        [
         "24396",
         "I hope Spotify stop using this ads",
         "0"
        ],
        [
         "24335",
         "Great music selection, but the player itself gets glitchy, necessitating frequent restarts. I've also had to uninstall and then reinstall the app several times, since, for some reason, it was draining all of my available phone memory. Also, at times, I've had to restart my phone, since Spotify kept messaging me that I was offline and could not therefore engage my playlist, even though my internet connection was at full capacity. The app is a bit of an annoyance, but I've learned to live with it.",
         "0"
        ],
        [
         "24395",
         "i don't want to hear the same ad in between songs.",
         "0"
        ]
       ],
       "shape": {
        "columns": 2,
        "rows": 52702
       }
      },
      "text/html": [
       "<div>\n",
       "<style scoped>\n",
       "    .dataframe tbody tr th:only-of-type {\n",
       "        vertical-align: middle;\n",
       "    }\n",
       "\n",
       "    .dataframe tbody tr th {\n",
       "        vertical-align: top;\n",
       "    }\n",
       "\n",
       "    .dataframe thead th {\n",
       "        text-align: right;\n",
       "    }\n",
       "</style>\n",
       "<table border=\"1\" class=\"dataframe\">\n",
       "  <thead>\n",
       "    <tr style=\"text-align: right;\">\n",
       "      <th></th>\n",
       "      <th>Review</th>\n",
       "      <th>label</th>\n",
       "    </tr>\n",
       "  </thead>\n",
       "  <tbody>\n",
       "    <tr>\n",
       "      <th>26350</th>\n",
       "      <td>I have discovered a new world of music. Before...</td>\n",
       "      <td>0</td>\n",
       "    </tr>\n",
       "    <tr>\n",
       "      <th>24369</th>\n",
       "      <td>Won't play music. It was my fav music app and ...</td>\n",
       "      <td>0</td>\n",
       "    </tr>\n",
       "    <tr>\n",
       "      <th>24368</th>\n",
       "      <td>Watch a ad u will get 30 minutes ad free music...</td>\n",
       "      <td>0</td>\n",
       "    </tr>\n",
       "    <tr>\n",
       "      <th>41902</th>\n",
       "      <td>Really like this app. But even when it tells m...</td>\n",
       "      <td>0</td>\n",
       "    </tr>\n",
       "    <tr>\n",
       "      <th>24365</th>\n",
       "      <td>I don't know what happend but I can't see my s...</td>\n",
       "      <td>0</td>\n",
       "    </tr>\n",
       "    <tr>\n",
       "      <th>...</th>\n",
       "      <td>...</td>\n",
       "      <td>...</td>\n",
       "    </tr>\n",
       "    <tr>\n",
       "      <th>22812</th>\n",
       "      <td>Listening songs is my hobby . And spotify help...</td>\n",
       "      <td>1</td>\n",
       "    </tr>\n",
       "    <tr>\n",
       "      <th>22811</th>\n",
       "      <td>Very good music experience.</td>\n",
       "      <td>1</td>\n",
       "    </tr>\n",
       "    <tr>\n",
       "      <th>22810</th>\n",
       "      <td>Yes,it is a nice music appðŸ‘ŒðŸ‘Œ</td>\n",
       "      <td>1</td>\n",
       "    </tr>\n",
       "    <tr>\n",
       "      <th>22841</th>\n",
       "      <td>Smooth running app</td>\n",
       "      <td>1</td>\n",
       "    </tr>\n",
       "    <tr>\n",
       "      <th>52701</th>\n",
       "      <td>Nice app to play music and at very affordable ...</td>\n",
       "      <td>1</td>\n",
       "    </tr>\n",
       "  </tbody>\n",
       "</table>\n",
       "<p>52702 rows × 2 columns</p>\n",
       "</div>"
      ],
      "text/plain": [
       "                                                  Review  label\n",
       "26350  I have discovered a new world of music. Before...      0\n",
       "24369  Won't play music. It was my fav music app and ...      0\n",
       "24368  Watch a ad u will get 30 minutes ad free music...      0\n",
       "41902  Really like this app. But even when it tells m...      0\n",
       "24365  I don't know what happend but I can't see my s...      0\n",
       "...                                                  ...    ...\n",
       "22812  Listening songs is my hobby . And spotify help...      1\n",
       "22811                        Very good music experience.      1\n",
       "22810                 Yes,it is a nice music appðŸ‘ŒðŸ‘Œ      1\n",
       "22841                                 Smooth running app      1\n",
       "52701  Nice app to play music and at very affordable ...      1\n",
       "\n",
       "[52702 rows x 2 columns]"
      ]
     },
     "execution_count": 22,
     "metadata": {},
     "output_type": "execute_result"
    }
   ],
   "source": [
    "file_path = \"DATASET.csv\"\n",
    "\n",
    "# Load the latest version\n",
    "df = kagglehub.load_dataset(\n",
    "  KaggleDatasetAdapter.PANDAS,\n",
    "  \"alexandrakim2201/spotify-dataset\",\n",
    "  file_path\n",
    ")\n",
    "\n",
    "df['label'] = df['label'].map({'POSITIVE': 1, 'NEGATIVE': 0})\n",
    "df = df.sort_values(by = 'label')\n",
    "df"
   ]
  }
 ],
 "metadata": {
  "kernelspec": {
   "display_name": "venv",
   "language": "python",
   "name": "python3"
  },
  "language_info": {
   "codemirror_mode": {
    "name": "ipython",
    "version": 3
   },
   "file_extension": ".py",
   "mimetype": "text/x-python",
   "name": "python",
   "nbconvert_exporter": "python",
   "pygments_lexer": "ipython3",
   "version": "3.12.1"
  }
 },
 "nbformat": 4,
 "nbformat_minor": 5
}
